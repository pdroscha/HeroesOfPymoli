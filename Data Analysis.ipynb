{
 "cells": [
  {
   "cell_type": "code",
   "execution_count": 13,
   "metadata": {},
   "outputs": [
    {
     "data": {
      "text/html": [
       "<div>\n",
       "<style scoped>\n",
       "    .dataframe tbody tr th:only-of-type {\n",
       "        vertical-align: middle;\n",
       "    }\n",
       "\n",
       "    .dataframe tbody tr th {\n",
       "        vertical-align: top;\n",
       "    }\n",
       "\n",
       "    .dataframe thead th {\n",
       "        text-align: right;\n",
       "    }\n",
       "</style>\n",
       "<table border=\"1\" class=\"dataframe\">\n",
       "  <thead>\n",
       "    <tr style=\"text-align: right;\">\n",
       "      <th></th>\n",
       "      <th>Purchase ID</th>\n",
       "      <th>SN</th>\n",
       "      <th>Age</th>\n",
       "      <th>Gender</th>\n",
       "      <th>Item ID</th>\n",
       "      <th>Item Name</th>\n",
       "      <th>Price</th>\n",
       "    </tr>\n",
       "  </thead>\n",
       "  <tbody>\n",
       "    <tr>\n",
       "      <th>0</th>\n",
       "      <td>0</td>\n",
       "      <td>Lisim78</td>\n",
       "      <td>20</td>\n",
       "      <td>Male</td>\n",
       "      <td>108</td>\n",
       "      <td>Extraction, Quickblade Of Trembling Hands</td>\n",
       "      <td>3.53</td>\n",
       "    </tr>\n",
       "    <tr>\n",
       "      <th>1</th>\n",
       "      <td>1</td>\n",
       "      <td>Lisovynya38</td>\n",
       "      <td>40</td>\n",
       "      <td>Male</td>\n",
       "      <td>143</td>\n",
       "      <td>Frenzied Scimitar</td>\n",
       "      <td>1.56</td>\n",
       "    </tr>\n",
       "    <tr>\n",
       "      <th>2</th>\n",
       "      <td>2</td>\n",
       "      <td>Ithergue48</td>\n",
       "      <td>24</td>\n",
       "      <td>Male</td>\n",
       "      <td>92</td>\n",
       "      <td>Final Critic</td>\n",
       "      <td>4.88</td>\n",
       "    </tr>\n",
       "    <tr>\n",
       "      <th>3</th>\n",
       "      <td>3</td>\n",
       "      <td>Chamassasya86</td>\n",
       "      <td>24</td>\n",
       "      <td>Male</td>\n",
       "      <td>100</td>\n",
       "      <td>Blindscythe</td>\n",
       "      <td>3.27</td>\n",
       "    </tr>\n",
       "    <tr>\n",
       "      <th>4</th>\n",
       "      <td>4</td>\n",
       "      <td>Iskosia90</td>\n",
       "      <td>23</td>\n",
       "      <td>Male</td>\n",
       "      <td>131</td>\n",
       "      <td>Fury</td>\n",
       "      <td>1.44</td>\n",
       "    </tr>\n",
       "  </tbody>\n",
       "</table>\n",
       "</div>"
      ],
      "text/plain": [
       "   Purchase ID             SN  Age Gender  Item ID  \\\n",
       "0            0        Lisim78   20   Male      108   \n",
       "1            1    Lisovynya38   40   Male      143   \n",
       "2            2     Ithergue48   24   Male       92   \n",
       "3            3  Chamassasya86   24   Male      100   \n",
       "4            4      Iskosia90   23   Male      131   \n",
       "\n",
       "                                   Item Name  Price  \n",
       "0  Extraction, Quickblade Of Trembling Hands   3.53  \n",
       "1                          Frenzied Scimitar   1.56  \n",
       "2                               Final Critic   4.88  \n",
       "3                                Blindscythe   3.27  \n",
       "4                                       Fury   1.44  "
      ]
     },
     "execution_count": 13,
     "metadata": {},
     "output_type": "execute_result"
    }
   ],
   "source": [
    "import pandas as pd\n",
    "import numpy as np\n",
    "\n",
    "file_to_load = \"../HeroesOfPymoli/purchase_data.csv\"\n",
    "\n",
    "purchase_data = pd.read_csv(file_to_load)\n",
    "purchase_data.head()"
   ]
  },
  {
   "cell_type": "code",
   "execution_count": 15,
   "metadata": {},
   "outputs": [
    {
     "data": {
      "text/html": [
       "<div>\n",
       "<style scoped>\n",
       "    .dataframe tbody tr th:only-of-type {\n",
       "        vertical-align: middle;\n",
       "    }\n",
       "\n",
       "    .dataframe tbody tr th {\n",
       "        vertical-align: top;\n",
       "    }\n",
       "\n",
       "    .dataframe thead th {\n",
       "        text-align: right;\n",
       "    }\n",
       "</style>\n",
       "<table border=\"1\" class=\"dataframe\">\n",
       "  <thead>\n",
       "    <tr style=\"text-align: right;\">\n",
       "      <th></th>\n",
       "      <th>Total Number of Players</th>\n",
       "    </tr>\n",
       "  </thead>\n",
       "  <tbody>\n",
       "    <tr>\n",
       "      <th>0</th>\n",
       "      <td>576</td>\n",
       "    </tr>\n",
       "  </tbody>\n",
       "</table>\n",
       "</div>"
      ],
      "text/plain": [
       "   Total Number of Players\n",
       "0                      576"
      ]
     },
     "execution_count": 15,
     "metadata": {},
     "output_type": "execute_result"
    }
   ],
   "source": [
    "# Display the total number of players\n",
    "player_count = len(purchase_data[\"SN\"].value_counts())\n",
    "pd.DataFrame([player_count], columns = [\"Total Number of Players\"])"
   ]
  },
  {
   "cell_type": "code",
   "execution_count": 17,
   "metadata": {},
   "outputs": [],
   "source": [
    "# Purchasing Analysis (Total)\n",
    "\n",
    "# Finding Number of Unique Items\n",
    "unique_items = len(purchase_data[\"Item ID\"].value_counts())"
   ]
  },
  {
   "cell_type": "code",
   "execution_count": 19,
   "metadata": {},
   "outputs": [],
   "source": [
    "# Average Price\n",
    "average_price = round(purchase_data[\"Price\"].mean(), 2)"
   ]
  },
  {
   "cell_type": "code",
   "execution_count": 20,
   "metadata": {},
   "outputs": [],
   "source": [
    "# Number of purchases\n",
    "number_purchases = purchase_data[\"Price\"].count()"
   ]
  },
  {
   "cell_type": "code",
   "execution_count": 21,
   "metadata": {},
   "outputs": [],
   "source": [
    "# Total money spent\n",
    "total_revenue = round(purchase_data[\"Price\"].sum(), 2)"
   ]
  },
  {
   "cell_type": "code",
   "execution_count": 23,
   "metadata": {},
   "outputs": [],
   "source": [
    "analysis = []\n",
    "\n",
    "analysis.append(unique_items)\n",
    "analysis.append(\"$\" + str(average_price))\n",
    "analysis.append(num_purchases)\n",
    "analysis.append(\"$\" + str(total_revenue))"
   ]
  },
  {
   "cell_type": "code",
   "execution_count": 24,
   "metadata": {},
   "outputs": [
    {
     "data": {
      "text/html": [
       "<div>\n",
       "<style scoped>\n",
       "    .dataframe tbody tr th:only-of-type {\n",
       "        vertical-align: middle;\n",
       "    }\n",
       "\n",
       "    .dataframe tbody tr th {\n",
       "        vertical-align: top;\n",
       "    }\n",
       "\n",
       "    .dataframe thead th {\n",
       "        text-align: right;\n",
       "    }\n",
       "</style>\n",
       "<table border=\"1\" class=\"dataframe\">\n",
       "  <thead>\n",
       "    <tr style=\"text-align: right;\">\n",
       "      <th></th>\n",
       "      <th>Number of Unique Items</th>\n",
       "      <th>Average Price</th>\n",
       "      <th>Number of Purchases</th>\n",
       "      <th>Total Revenue</th>\n",
       "    </tr>\n",
       "  </thead>\n",
       "  <tbody>\n",
       "    <tr>\n",
       "      <th>0</th>\n",
       "      <td>183</td>\n",
       "      <td>$3.05</td>\n",
       "      <td>780</td>\n",
       "      <td>$2379.77</td>\n",
       "    </tr>\n",
       "  </tbody>\n",
       "</table>\n",
       "</div>"
      ],
      "text/plain": [
       "   Number of Unique Items Average Price  Number of Purchases Total Revenue\n",
       "0                     183         $3.05                  780      $2379.77"
      ]
     },
     "execution_count": 24,
     "metadata": {},
     "output_type": "execute_result"
    }
   ],
   "source": [
    "pd.DataFrame([analysis], columns = [\"Number of Unique Items\", \"Average Price\", \n",
    "                                             \"Number of Purchases\", \"Total Revenue\"])"
   ]
  },
  {
   "cell_type": "code",
   "execution_count": 25,
   "metadata": {},
   "outputs": [],
   "source": [
    "# Gender Demographics\n",
    "\n",
    "# Grouping by gender\n",
    "gender = purchase_data[[\"SN\", \"Gender\"]]\n",
    "gender = gender.drop_duplicates()\n",
    "counts = gender[\"Gender\"].value_counts()"
   ]
  },
  {
   "cell_type": "code",
   "execution_count": 27,
   "metadata": {},
   "outputs": [],
   "source": [
    "percents = [round((counts[0]/player_count)*100,2),round((counts[1]/player_count)*100,2),round((counts[2]/player_count)*100,2)]\n",
    "total_counts = [counts[0],counts[1],counts[2]]"
   ]
  },
  {
   "cell_type": "code",
   "execution_count": 28,
   "metadata": {},
   "outputs": [
    {
     "data": {
      "text/html": [
       "<div>\n",
       "<style scoped>\n",
       "    .dataframe tbody tr th:only-of-type {\n",
       "        vertical-align: middle;\n",
       "    }\n",
       "\n",
       "    .dataframe tbody tr th {\n",
       "        vertical-align: top;\n",
       "    }\n",
       "\n",
       "    .dataframe thead th {\n",
       "        text-align: right;\n",
       "    }\n",
       "</style>\n",
       "<table border=\"1\" class=\"dataframe\">\n",
       "  <thead>\n",
       "    <tr style=\"text-align: right;\">\n",
       "      <th></th>\n",
       "      <th>Percentage of Players</th>\n",
       "      <th>Total Count</th>\n",
       "    </tr>\n",
       "  </thead>\n",
       "  <tbody>\n",
       "    <tr>\n",
       "      <th>Male</th>\n",
       "      <td>84.03</td>\n",
       "      <td>484</td>\n",
       "    </tr>\n",
       "    <tr>\n",
       "      <th>Female</th>\n",
       "      <td>14.06</td>\n",
       "      <td>81</td>\n",
       "    </tr>\n",
       "    <tr>\n",
       "      <th>Other / Non-Disclosed</th>\n",
       "      <td>1.91</td>\n",
       "      <td>11</td>\n",
       "    </tr>\n",
       "  </tbody>\n",
       "</table>\n",
       "</div>"
      ],
      "text/plain": [
       "                       Percentage of Players  Total Count\n",
       "Male                                   84.03          484\n",
       "Female                                 14.06           81\n",
       "Other / Non-Disclosed                   1.91           11"
      ]
     },
     "execution_count": 28,
     "metadata": {},
     "output_type": "execute_result"
    }
   ],
   "source": [
    "gender_df = pd.DataFrame({\n",
    "    \"Percentage of Players\": percents,\n",
    "    \"Total Count\": total_counts})\n",
    "\n",
    "gender_df.index = ([\"Male\", \"Female\", \"Other / Non-Disclosed\"])\n",
    "gender_df"
   ]
  },
  {
   "cell_type": "code",
   "execution_count": 29,
   "metadata": {},
   "outputs": [],
   "source": [
    "# Purchasing Analysis (Gender)\n",
    "\n",
    "gender = purchase_data[[\"SN\",\"Gender\",\"Price\"]]\n",
    "counts = gender[\"Gender\"].value_counts()"
   ]
  },
  {
   "cell_type": "code",
   "execution_count": 30,
   "metadata": {},
   "outputs": [
    {
     "data": {
      "text/html": [
       "<div>\n",
       "<style scoped>\n",
       "    .dataframe tbody tr th:only-of-type {\n",
       "        vertical-align: middle;\n",
       "    }\n",
       "\n",
       "    .dataframe tbody tr th {\n",
       "        vertical-align: top;\n",
       "    }\n",
       "\n",
       "    .dataframe thead th {\n",
       "        text-align: right;\n",
       "    }\n",
       "</style>\n",
       "<table border=\"1\" class=\"dataframe\">\n",
       "  <thead>\n",
       "    <tr style=\"text-align: right;\">\n",
       "      <th></th>\n",
       "      <th>Price</th>\n",
       "    </tr>\n",
       "    <tr>\n",
       "      <th>Gender</th>\n",
       "      <th></th>\n",
       "    </tr>\n",
       "  </thead>\n",
       "  <tbody>\n",
       "    <tr>\n",
       "      <th>Female</th>\n",
       "      <td>361.94</td>\n",
       "    </tr>\n",
       "    <tr>\n",
       "      <th>Male</th>\n",
       "      <td>1967.64</td>\n",
       "    </tr>\n",
       "    <tr>\n",
       "      <th>Other / Non-Disclosed</th>\n",
       "      <td>50.19</td>\n",
       "    </tr>\n",
       "  </tbody>\n",
       "</table>\n",
       "</div>"
      ],
      "text/plain": [
       "                         Price\n",
       "Gender                        \n",
       "Female                  361.94\n",
       "Male                   1967.64\n",
       "Other / Non-Disclosed    50.19"
      ]
     },
     "execution_count": 30,
     "metadata": {},
     "output_type": "execute_result"
    }
   ],
   "source": [
    "# Purchase count\n",
    "purchase_count = [counts[0],counts[1],counts[2]]\n",
    "\n",
    "gender = gender.groupby(\"Gender\")\n",
    "total_spent = gender.sum()\n",
    "total_spent"
   ]
  },
  {
   "cell_type": "code",
   "execution_count": 35,
   "metadata": {},
   "outputs": [],
   "source": [
    "# Average Purchase Price\n",
    "avg_purchase = [total_spent.iloc[1,0]/counts[0], total_spent.iloc[0,0]/counts[1], total_spent.iloc[2,0]/counts[2]]"
   ]
  },
  {
   "cell_type": "code",
   "execution_count": 36,
   "metadata": {},
   "outputs": [],
   "source": [
    "# Total Purchase Value\n",
    "total_purchase_value = [total_spent.iloc[1,0], total_spent.iloc[0,0], total_spent.iloc[2,0]]"
   ]
  },
  {
   "cell_type": "code",
   "execution_count": 37,
   "metadata": {},
   "outputs": [],
   "source": [
    "# Normalized Totals\n",
    "normalized_totals = [total_spent.iloc[1,0]/counts[0], total_spent.iloc[0,0]/counts[1], total_spent.iloc[2,0]/counts[2]]"
   ]
  },
  {
   "cell_type": "code",
   "execution_count": 38,
   "metadata": {},
   "outputs": [],
   "source": [
    "purchase_analysis_df = pd.DataFrame({\n",
    "    \"Purchase Count\": purchase_count,\n",
    "    \"Average Purchase Price\": avg_purchase,\n",
    "    \"Total Purchase Value\": total_purchase_value,\n",
    "    \"Normalized Totals\": normalized_totals,\n",
    "    \"Gender\": [\"Male\", \"Female\", \"Other / Non-Disclosed\"]})\n",
    "\n",
    "purchase_analysis_df = purchase_analysis_df.set_index(\"Gender\")\n",
    "purchase_analysis_df = purchase_analysis_df[[\"Purchase Count\", \"Average Purchase Price\", \"Total Purchase Value\", \n",
    "                                             \"Normalized Totals\"]]"
   ]
  },
  {
   "cell_type": "code",
   "execution_count": 39,
   "metadata": {},
   "outputs": [
    {
     "data": {
      "text/html": [
       "<style  type=\"text/css\" >\n",
       "</style>  \n",
       "<table id=\"T_af8916be_c12d_11e8_808e_985aebcb8ff7\" > \n",
       "<thead>    <tr> \n",
       "        <th class=\"blank level0\" ></th> \n",
       "        <th class=\"col_heading level0 col0\" >Purchase Count</th> \n",
       "        <th class=\"col_heading level0 col1\" >Average Purchase Price</th> \n",
       "        <th class=\"col_heading level0 col2\" >Total Purchase Value</th> \n",
       "        <th class=\"col_heading level0 col3\" >Normalized Totals</th> \n",
       "    </tr>    <tr> \n",
       "        <th class=\"index_name level0\" >Gender</th> \n",
       "        <th class=\"blank\" ></th> \n",
       "        <th class=\"blank\" ></th> \n",
       "        <th class=\"blank\" ></th> \n",
       "        <th class=\"blank\" ></th> \n",
       "    </tr></thead> \n",
       "<tbody>    <tr> \n",
       "        <th id=\"T_af8916be_c12d_11e8_808e_985aebcb8ff7level0_row0\" class=\"row_heading level0 row0\" >Male</th> \n",
       "        <td id=\"T_af8916be_c12d_11e8_808e_985aebcb8ff7row0_col0\" class=\"data row0 col0\" >652</td> \n",
       "        <td id=\"T_af8916be_c12d_11e8_808e_985aebcb8ff7row0_col1\" class=\"data row0 col1\" >$3.02</td> \n",
       "        <td id=\"T_af8916be_c12d_11e8_808e_985aebcb8ff7row0_col2\" class=\"data row0 col2\" >$1967.64</td> \n",
       "        <td id=\"T_af8916be_c12d_11e8_808e_985aebcb8ff7row0_col3\" class=\"data row0 col3\" >$3.02</td> \n",
       "    </tr>    <tr> \n",
       "        <th id=\"T_af8916be_c12d_11e8_808e_985aebcb8ff7level0_row1\" class=\"row_heading level0 row1\" >Female</th> \n",
       "        <td id=\"T_af8916be_c12d_11e8_808e_985aebcb8ff7row1_col0\" class=\"data row1 col0\" >113</td> \n",
       "        <td id=\"T_af8916be_c12d_11e8_808e_985aebcb8ff7row1_col1\" class=\"data row1 col1\" >$3.20</td> \n",
       "        <td id=\"T_af8916be_c12d_11e8_808e_985aebcb8ff7row1_col2\" class=\"data row1 col2\" >$361.94</td> \n",
       "        <td id=\"T_af8916be_c12d_11e8_808e_985aebcb8ff7row1_col3\" class=\"data row1 col3\" >$3.20</td> \n",
       "    </tr>    <tr> \n",
       "        <th id=\"T_af8916be_c12d_11e8_808e_985aebcb8ff7level0_row2\" class=\"row_heading level0 row2\" >Other / Non-Disclosed</th> \n",
       "        <td id=\"T_af8916be_c12d_11e8_808e_985aebcb8ff7row2_col0\" class=\"data row2 col0\" >15</td> \n",
       "        <td id=\"T_af8916be_c12d_11e8_808e_985aebcb8ff7row2_col1\" class=\"data row2 col1\" >$3.35</td> \n",
       "        <td id=\"T_af8916be_c12d_11e8_808e_985aebcb8ff7row2_col2\" class=\"data row2 col2\" >$50.19</td> \n",
       "        <td id=\"T_af8916be_c12d_11e8_808e_985aebcb8ff7row2_col3\" class=\"data row2 col3\" >$3.35</td> \n",
       "    </tr></tbody> \n",
       "</table> "
      ],
      "text/plain": [
       "<pandas.io.formats.style.Styler at 0x10cdae7b8>"
      ]
     },
     "execution_count": 39,
     "metadata": {},
     "output_type": "execute_result"
    }
   ],
   "source": [
    "purchase_analysis_df.style.format({\"Average Purchase Price\": \"${:.2f}\", \"Total Purchase Value\":\"${:.2f}\",\n",
    "                                     \"Normalized Totals\": \"${:.2f}\"})"
   ]
  },
  {
   "cell_type": "code",
   "execution_count": 54,
   "metadata": {},
   "outputs": [],
   "source": [
    "# Age Demographics\n",
    "\n",
    "age_bins = [0, 9.90, 14.90, 19.90, 24.90, 29.90, 34.90, 39.90, 99999]\n",
    "group_names = [\"<10\", \"10-14\", \"15-19\", \"20-24\", \"25-29\", \"30-34\", \"35-39\", \"40+\"]"
   ]
  },
  {
   "cell_type": "code",
   "execution_count": 63,
   "metadata": {},
   "outputs": [],
   "source": [
    "purchase_data[\"Age Groups\"] = pd.cut(purchase_data[\"Age\"], age_bins, labels=group_names)\n",
    "age_df = purchase_data.groupby([\"Age Groups\"])\n",
    "\n",
    "total_age = age_df[\"Age\"].sum()"
   ]
  },
  {
   "cell_type": "code",
   "execution_count": 64,
   "metadata": {},
   "outputs": [],
   "source": [
    "age_purchase = purchase_data[\"Age Groups\"].value_counts()"
   ]
  },
  {
   "cell_type": "code",
   "execution_count": 66,
   "metadata": {},
   "outputs": [],
   "source": [
    "age_percentage = age_purchase / player_count"
   ]
  },
  {
   "cell_type": "code",
   "execution_count": 67,
   "metadata": {},
   "outputs": [],
   "source": [
    "age_demographics = pd.DataFrame({\"Total Count\": age_purchase,\n",
    "                             \"Percentage of Players\":age_percentage})"
   ]
  },
  {
   "cell_type": "code",
   "execution_count": 68,
   "metadata": {},
   "outputs": [],
   "source": [
    "age_demographics[\"Percentage of Players\"] = age_demographics[\"Percentage of Players\"].map(\"{:,.2%}\".format)"
   ]
  },
  {
   "cell_type": "code",
   "execution_count": 69,
   "metadata": {},
   "outputs": [
    {
     "data": {
      "text/html": [
       "<div>\n",
       "<style scoped>\n",
       "    .dataframe tbody tr th:only-of-type {\n",
       "        vertical-align: middle;\n",
       "    }\n",
       "\n",
       "    .dataframe tbody tr th {\n",
       "        vertical-align: top;\n",
       "    }\n",
       "\n",
       "    .dataframe thead th {\n",
       "        text-align: right;\n",
       "    }\n",
       "</style>\n",
       "<table border=\"1\" class=\"dataframe\">\n",
       "  <thead>\n",
       "    <tr style=\"text-align: right;\">\n",
       "      <th></th>\n",
       "      <th>Percentage of Players</th>\n",
       "      <th>Total Count</th>\n",
       "    </tr>\n",
       "  </thead>\n",
       "  <tbody>\n",
       "    <tr>\n",
       "      <th>&lt;10</th>\n",
       "      <td>3.99%</td>\n",
       "      <td>23</td>\n",
       "    </tr>\n",
       "    <tr>\n",
       "      <th>10-14</th>\n",
       "      <td>4.86%</td>\n",
       "      <td>28</td>\n",
       "    </tr>\n",
       "    <tr>\n",
       "      <th>15-19</th>\n",
       "      <td>23.61%</td>\n",
       "      <td>136</td>\n",
       "    </tr>\n",
       "    <tr>\n",
       "      <th>20-24</th>\n",
       "      <td>63.37%</td>\n",
       "      <td>365</td>\n",
       "    </tr>\n",
       "    <tr>\n",
       "      <th>25-29</th>\n",
       "      <td>17.53%</td>\n",
       "      <td>101</td>\n",
       "    </tr>\n",
       "    <tr>\n",
       "      <th>30-34</th>\n",
       "      <td>12.67%</td>\n",
       "      <td>73</td>\n",
       "    </tr>\n",
       "    <tr>\n",
       "      <th>35-39</th>\n",
       "      <td>7.12%</td>\n",
       "      <td>41</td>\n",
       "    </tr>\n",
       "    <tr>\n",
       "      <th>40+</th>\n",
       "      <td>2.26%</td>\n",
       "      <td>13</td>\n",
       "    </tr>\n",
       "  </tbody>\n",
       "</table>\n",
       "</div>"
      ],
      "text/plain": [
       "      Percentage of Players  Total Count\n",
       "<10                   3.99%           23\n",
       "10-14                 4.86%           28\n",
       "15-19                23.61%          136\n",
       "20-24                63.37%          365\n",
       "25-29                17.53%          101\n",
       "30-34                12.67%           73\n",
       "35-39                 7.12%           41\n",
       "40+                   2.26%           13"
      ]
     },
     "execution_count": 69,
     "metadata": {},
     "output_type": "execute_result"
    }
   ],
   "source": [
    "age_demographics = age_demographics.reindex([\"<10\", \"10-14\", \"15-19\", \"20-24\", \"25-29\", \"30-34\", \"35-39\", \"40+\"])\n",
    "\n",
    "age_demographics"
   ]
  },
  {
   "cell_type": "code",
   "execution_count": 71,
   "metadata": {},
   "outputs": [],
   "source": [
    "# Purchasing Analysis (Age)\n",
    "\n",
    "purchase_data[\"Age Groups\"] = pd.cut(purchase_data[\"Age\"], age_bins, labels=group_names)"
   ]
  },
  {
   "cell_type": "code",
   "execution_count": 76,
   "metadata": {},
   "outputs": [],
   "source": [
    "age_purchase_total = purchase_data.groupby([\"Age Groups\"]).sum()[\"Price\"].rename(\"Total Purchase Value\")\n",
    "age_average = purchase_data.groupby([\"Age Groups\"]).mean()[\"Price\"].rename(\"Average Purchase Price\")\n",
    "age_counts = purchase_data.groupby([\"Age Groups\"]).count()[\"Price\"].rename(\"Purchase Count\")"
   ]
  },
  {
   "cell_type": "code",
   "execution_count": 77,
   "metadata": {},
   "outputs": [],
   "source": [
    "normalized_total = age_purchase_total / age_demographics[\"Total Count\"]"
   ]
  },
  {
   "cell_type": "code",
   "execution_count": 78,
   "metadata": {},
   "outputs": [],
   "source": [
    "age_data = pd.DataFrame({\"Purchase Count\": age_counts, \"Average Purchase Price\": age_average, \n",
    "                         \"Total Purchase Value\": age_purchase_total, \"Normalized Totals\": normalized_total})"
   ]
  },
  {
   "cell_type": "code",
   "execution_count": 79,
   "metadata": {},
   "outputs": [],
   "source": [
    "age_data[\"Average Purchase Price\"] = age_data[\"Average Purchase Price\"].map(\"${:,.2f}\".format)\n",
    "age_data[\"Total Purchase Value\"] = age_data[\"Total Purchase Value\"].map(\"${:,.2f}\".format)\n",
    "age_data [\"Purchase Count\"] = age_data[\"Purchase Count\"].map(\"{:,}\".format)\n",
    "age_data[\"Normalized Totals\"] = age_data[\"Normalized Totals\"].map(\"${:,.2f}\".format)\n",
    "age_data = age_data.loc[:, [\"Purchase Count\", \"Average Purchase Price\", \"Total Purchase Value\", \"Normalized Totals\"]]"
   ]
  },
  {
   "cell_type": "code",
   "execution_count": 80,
   "metadata": {},
   "outputs": [
    {
     "data": {
      "text/html": [
       "<div>\n",
       "<style scoped>\n",
       "    .dataframe tbody tr th:only-of-type {\n",
       "        vertical-align: middle;\n",
       "    }\n",
       "\n",
       "    .dataframe tbody tr th {\n",
       "        vertical-align: top;\n",
       "    }\n",
       "\n",
       "    .dataframe thead th {\n",
       "        text-align: right;\n",
       "    }\n",
       "</style>\n",
       "<table border=\"1\" class=\"dataframe\">\n",
       "  <thead>\n",
       "    <tr style=\"text-align: right;\">\n",
       "      <th></th>\n",
       "      <th>Purchase Count</th>\n",
       "      <th>Average Purchase Price</th>\n",
       "      <th>Total Purchase Value</th>\n",
       "      <th>Normalized Totals</th>\n",
       "    </tr>\n",
       "  </thead>\n",
       "  <tbody>\n",
       "    <tr>\n",
       "      <th>10-14</th>\n",
       "      <td>28</td>\n",
       "      <td>$2.96</td>\n",
       "      <td>$82.78</td>\n",
       "      <td>$2.96</td>\n",
       "    </tr>\n",
       "    <tr>\n",
       "      <th>15-19</th>\n",
       "      <td>136</td>\n",
       "      <td>$3.04</td>\n",
       "      <td>$412.89</td>\n",
       "      <td>$3.04</td>\n",
       "    </tr>\n",
       "    <tr>\n",
       "      <th>20-24</th>\n",
       "      <td>365</td>\n",
       "      <td>$3.05</td>\n",
       "      <td>$1,114.06</td>\n",
       "      <td>$3.05</td>\n",
       "    </tr>\n",
       "    <tr>\n",
       "      <th>25-29</th>\n",
       "      <td>101</td>\n",
       "      <td>$2.90</td>\n",
       "      <td>$293.00</td>\n",
       "      <td>$2.90</td>\n",
       "    </tr>\n",
       "    <tr>\n",
       "      <th>30-34</th>\n",
       "      <td>73</td>\n",
       "      <td>$2.93</td>\n",
       "      <td>$214.00</td>\n",
       "      <td>$2.93</td>\n",
       "    </tr>\n",
       "    <tr>\n",
       "      <th>35-39</th>\n",
       "      <td>41</td>\n",
       "      <td>$3.60</td>\n",
       "      <td>$147.67</td>\n",
       "      <td>$3.60</td>\n",
       "    </tr>\n",
       "    <tr>\n",
       "      <th>40+</th>\n",
       "      <td>13</td>\n",
       "      <td>$2.94</td>\n",
       "      <td>$38.24</td>\n",
       "      <td>$2.94</td>\n",
       "    </tr>\n",
       "    <tr>\n",
       "      <th>&lt;10</th>\n",
       "      <td>23</td>\n",
       "      <td>$3.35</td>\n",
       "      <td>$77.13</td>\n",
       "      <td>$3.35</td>\n",
       "    </tr>\n",
       "  </tbody>\n",
       "</table>\n",
       "</div>"
      ],
      "text/plain": [
       "      Purchase Count Average Purchase Price Total Purchase Value  \\\n",
       "10-14             28                  $2.96               $82.78   \n",
       "15-19            136                  $3.04              $412.89   \n",
       "20-24            365                  $3.05            $1,114.06   \n",
       "25-29            101                  $2.90              $293.00   \n",
       "30-34             73                  $2.93              $214.00   \n",
       "35-39             41                  $3.60              $147.67   \n",
       "40+               13                  $2.94               $38.24   \n",
       "<10               23                  $3.35               $77.13   \n",
       "\n",
       "      Normalized Totals  \n",
       "10-14             $2.96  \n",
       "15-19             $3.04  \n",
       "20-24             $3.05  \n",
       "25-29             $2.90  \n",
       "30-34             $2.93  \n",
       "35-39             $3.60  \n",
       "40+               $2.94  \n",
       "<10               $3.35  "
      ]
     },
     "execution_count": 80,
     "metadata": {},
     "output_type": "execute_result"
    }
   ],
   "source": [
    "age_data"
   ]
  },
  {
   "cell_type": "code",
   "execution_count": 81,
   "metadata": {},
   "outputs": [],
   "source": [
    "# Top Spenders\n",
    "\n",
    "senders = purchase_data[[\"SN\",\"Price\",\"Item Name\"]]\n",
    "total_spent = senders.groupby(\"SN\").sum()\n",
    "total_spent.sort_values(by = \"Price\", ascending = False, inplace = True)"
   ]
  },
  {
   "cell_type": "code",
   "execution_count": 82,
   "metadata": {},
   "outputs": [],
   "source": [
    "names = list(total_spent.index.values)\n",
    "top_names = [names[0],names[1],names[2],names[3],names[4]]"
   ]
  },
  {
   "cell_type": "code",
   "execution_count": 83,
   "metadata": {},
   "outputs": [],
   "source": [
    "total_purchase_values_1 = total_spent.iloc[0,0]\n",
    "total_purchase_values_2 = total_spent.iloc[1,0]\n",
    "total_purchase_values_3 = total_spent.iloc[2,0]\n",
    "total_purchase_values_4 = total_spent.iloc[3,0]\n",
    "total_purchase_values_5 = total_spent.iloc[4,0]\n",
    "top_purchase_values = [total_spent.iloc[0,0], total_spent.iloc[1,0], \n",
    "                       total_spent.iloc[2,0], total_spent.iloc[3,0], total_spent.iloc[4,0]]"
   ]
  },
  {
   "cell_type": "code",
   "execution_count": 84,
   "metadata": {},
   "outputs": [],
   "source": [
    "top_purchase_counts_1 = senders[senders[\"SN\"] == names[0]].count()[0]\n",
    "top_purchase_counts_2 = senders[senders[\"SN\"] == names[1]].count()[0]\n",
    "top_purchase_counts_3 = senders[senders[\"SN\"] == names[2]].count()[0]\n",
    "top_purchase_counts_4 = senders[senders[\"SN\"] == names[3]].count()[0]\n",
    "top_purchase_counts_5 = senders[senders[\"SN\"] == names[4]].count()[0]\n",
    "top_purchase_counts = [top_purchase_counts_1, top_purchase_counts_2, \n",
    "                       top_purchase_counts_3, top_purchase_counts_4, top_purchase_counts_5]"
   ]
  },
  {
   "cell_type": "code",
   "execution_count": 85,
   "metadata": {},
   "outputs": [],
   "source": [
    "avg_price_1 = total_purchase_values_1/top_purchase_counts_1\n",
    "avg_price_2 = total_purchase_values_2/top_purchase_counts_2\n",
    "avg_price_3 = total_purchase_values_3/top_purchase_counts_3\n",
    "avg_price_4 = total_purchase_values_4/top_purchase_counts_4\n",
    "avg_price_5 = total_purchase_values_5/top_purchase_counts_5\n",
    "avg_prices = [avg_price_1, avg_price_2, avg_price_3, avg_price_4, avg_price_5]"
   ]
  },
  {
   "cell_type": "code",
   "execution_count": 86,
   "metadata": {},
   "outputs": [],
   "source": [
    "top_spenders_dictionary = {\n",
    "    \"Purchase Count\": top_purchase_counts,\n",
    "    \"Average Purchase Price\": avg_prices,\n",
    "    \"Total Purchase Value\": top_purchase_values,\n",
    "    \"SN\": top_names}"
   ]
  },
  {
   "cell_type": "code",
   "execution_count": 87,
   "metadata": {},
   "outputs": [],
   "source": [
    "top_spenders = pd.DataFrame(top_spenders_dictionary)\n",
    "top_spenders = top_spenders.set_index(\"SN\")\n",
    "top_spenders = top_spenders[[\"Purchase Count\", \"Average Purchase Price\", \"Total Purchase Value\"]]"
   ]
  },
  {
   "cell_type": "code",
   "execution_count": 88,
   "metadata": {},
   "outputs": [
    {
     "data": {
      "text/html": [
       "<style  type=\"text/css\" >\n",
       "</style>  \n",
       "<table id=\"T_c88ca2c6_c133_11e8_bbd6_985aebcb8ff7\" > \n",
       "<thead>    <tr> \n",
       "        <th class=\"blank level0\" ></th> \n",
       "        <th class=\"col_heading level0 col0\" >Purchase Count</th> \n",
       "        <th class=\"col_heading level0 col1\" >Average Purchase Price</th> \n",
       "        <th class=\"col_heading level0 col2\" >Total Purchase Value</th> \n",
       "    </tr>    <tr> \n",
       "        <th class=\"index_name level0\" >SN</th> \n",
       "        <th class=\"blank\" ></th> \n",
       "        <th class=\"blank\" ></th> \n",
       "        <th class=\"blank\" ></th> \n",
       "    </tr></thead> \n",
       "<tbody>    <tr> \n",
       "        <th id=\"T_c88ca2c6_c133_11e8_bbd6_985aebcb8ff7level0_row0\" class=\"row_heading level0 row0\" >Lisosia93</th> \n",
       "        <td id=\"T_c88ca2c6_c133_11e8_bbd6_985aebcb8ff7row0_col0\" class=\"data row0 col0\" >5</td> \n",
       "        <td id=\"T_c88ca2c6_c133_11e8_bbd6_985aebcb8ff7row0_col1\" class=\"data row0 col1\" >$3.79</td> \n",
       "        <td id=\"T_c88ca2c6_c133_11e8_bbd6_985aebcb8ff7row0_col2\" class=\"data row0 col2\" >$18.96</td> \n",
       "    </tr>    <tr> \n",
       "        <th id=\"T_c88ca2c6_c133_11e8_bbd6_985aebcb8ff7level0_row1\" class=\"row_heading level0 row1\" >Idastidru52</th> \n",
       "        <td id=\"T_c88ca2c6_c133_11e8_bbd6_985aebcb8ff7row1_col0\" class=\"data row1 col0\" >4</td> \n",
       "        <td id=\"T_c88ca2c6_c133_11e8_bbd6_985aebcb8ff7row1_col1\" class=\"data row1 col1\" >$3.86</td> \n",
       "        <td id=\"T_c88ca2c6_c133_11e8_bbd6_985aebcb8ff7row1_col2\" class=\"data row1 col2\" >$15.45</td> \n",
       "    </tr>    <tr> \n",
       "        <th id=\"T_c88ca2c6_c133_11e8_bbd6_985aebcb8ff7level0_row2\" class=\"row_heading level0 row2\" >Chamjask73</th> \n",
       "        <td id=\"T_c88ca2c6_c133_11e8_bbd6_985aebcb8ff7row2_col0\" class=\"data row2 col0\" >3</td> \n",
       "        <td id=\"T_c88ca2c6_c133_11e8_bbd6_985aebcb8ff7row2_col1\" class=\"data row2 col1\" >$4.61</td> \n",
       "        <td id=\"T_c88ca2c6_c133_11e8_bbd6_985aebcb8ff7row2_col2\" class=\"data row2 col2\" >$13.83</td> \n",
       "    </tr>    <tr> \n",
       "        <th id=\"T_c88ca2c6_c133_11e8_bbd6_985aebcb8ff7level0_row3\" class=\"row_heading level0 row3\" >Iral74</th> \n",
       "        <td id=\"T_c88ca2c6_c133_11e8_bbd6_985aebcb8ff7row3_col0\" class=\"data row3 col0\" >4</td> \n",
       "        <td id=\"T_c88ca2c6_c133_11e8_bbd6_985aebcb8ff7row3_col1\" class=\"data row3 col1\" >$3.40</td> \n",
       "        <td id=\"T_c88ca2c6_c133_11e8_bbd6_985aebcb8ff7row3_col2\" class=\"data row3 col2\" >$13.62</td> \n",
       "    </tr>    <tr> \n",
       "        <th id=\"T_c88ca2c6_c133_11e8_bbd6_985aebcb8ff7level0_row4\" class=\"row_heading level0 row4\" >Iskadarya95</th> \n",
       "        <td id=\"T_c88ca2c6_c133_11e8_bbd6_985aebcb8ff7row4_col0\" class=\"data row4 col0\" >3</td> \n",
       "        <td id=\"T_c88ca2c6_c133_11e8_bbd6_985aebcb8ff7row4_col1\" class=\"data row4 col1\" >$4.37</td> \n",
       "        <td id=\"T_c88ca2c6_c133_11e8_bbd6_985aebcb8ff7row4_col2\" class=\"data row4 col2\" >$13.10</td> \n",
       "    </tr></tbody> \n",
       "</table> "
      ],
      "text/plain": [
       "<pandas.io.formats.style.Styler at 0x1133b1da0>"
      ]
     },
     "execution_count": 88,
     "metadata": {},
     "output_type": "execute_result"
    }
   ],
   "source": [
    "top_spenders.style.format({\"Average Purchase Price\": \"${:.2f}\", \"Total Purchase Value\": \"${:.2f}\"})"
   ]
  },
  {
   "cell_type": "code",
   "execution_count": 89,
   "metadata": {},
   "outputs": [],
   "source": [
    "# Most Popular Items\n",
    "\n",
    "items = purchase_data[[\"Item ID\", \"Item Name\", \"Price\"]]\n",
    "popular_items = items.groupby(\"Item ID\").count()\n",
    "popular_items.sort_values(by = \"Item Name\", ascending = False, inplace = True)\n",
    "items = items.drop_duplicates([\"Item ID\", \"Item Name\"])"
   ]
  },
  {
   "cell_type": "code",
   "execution_count": 90,
   "metadata": {},
   "outputs": [],
   "source": [
    "item_ids = [popular_items.index[0], popular_items.index[1], \n",
    "            popular_items.index[2], popular_items.index[3], popular_items.index[4]]"
   ]
  },
  {
   "cell_type": "code",
   "execution_count": 92,
   "metadata": {},
   "outputs": [],
   "source": [
    "name_1 = items.loc[items[\"Item ID\"] == item_ids[0], \"Item Name\"].item()\n",
    "name_2 = items.loc[items[\"Item ID\"] == item_ids[1], \"Item Name\"].item()\n",
    "name_3 = items.loc[items[\"Item ID\"] == item_ids[2], \"Item Name\"].item()\n",
    "name_4 = items.loc[items[\"Item ID\"] == item_ids[3], \"Item Name\"].item()\n",
    "name_5 = items.loc[items[\"Item ID\"] == item_ids[4], \"Item Name\"].item()\n",
    "popular_item_names = [name_1, name_2, name_3, name_4, name_5]"
   ]
  },
  {
   "cell_type": "code",
   "execution_count": 93,
   "metadata": {},
   "outputs": [],
   "source": [
    "item_counts = [popular_items.iloc[0,0], popular_items.iloc[1,0], \n",
    "               popular_items.iloc[2,0], popular_items.iloc[3,0], popular_items.iloc[4,0]]"
   ]
  },
  {
   "cell_type": "code",
   "execution_count": 94,
   "metadata": {},
   "outputs": [],
   "source": [
    "price_1 = items.loc[items[\"Item Name\"] == popular_item_names[0], \"Price\"].item()\n",
    "price_2 = items.loc[items[\"Item Name\"] == popular_item_names[1], \"Price\"].item()\n",
    "price_3 = items.loc[items[\"Item Name\"] == popular_item_names[2], \"Price\"].item()\n",
    "price_4 = items.loc[items[\"Item Name\"] == popular_item_names[3], \"Price\"].item()\n",
    "price_5 = items.loc[items[\"Item Name\"] == popular_item_names[4], \"Price\"].item()\n",
    "item_prices = [price_1,price_2,price_3,price_4,price_5]"
   ]
  },
  {
   "cell_type": "code",
   "execution_count": 95,
   "metadata": {},
   "outputs": [],
   "source": [
    "total_values = [popular_items.iloc[0,0]*price_1, popular_items.iloc[1,0]*price_2, popular_items.iloc[2,0]*price_3, \n",
    "                popular_items.iloc[3,0]*price_4, popular_items.iloc[4,0]*price_5]"
   ]
  },
  {
   "cell_type": "code",
   "execution_count": 98,
   "metadata": {},
   "outputs": [],
   "source": [
    "popular_items = pd.DataFrame({\n",
    "    \"Item ID\": item_ids,\n",
    "    \"Item Name\": popular_item_names,\n",
    "    \"Purchase Count\": item_counts,\n",
    "    \"Item Price\": item_prices,\n",
    "    \"Total Purchase Value\": total_values})\n",
    "\n",
    "popular_items = popular_items.set_index([\"Item ID\", \"Item Name\"])\n",
    "popular_items = popular_items[[\"Purchase Count\", \"Item Price\", \"Total Purchase Value\"]]"
   ]
  },
  {
   "cell_type": "code",
   "execution_count": 99,
   "metadata": {},
   "outputs": [
    {
     "data": {
      "text/html": [
       "<style  type=\"text/css\" >\n",
       "</style>  \n",
       "<table id=\"T_9dd7af0a_c134_11e8_a6f5_985aebcb8ff7\" > \n",
       "<thead>    <tr> \n",
       "        <th class=\"blank\" ></th> \n",
       "        <th class=\"blank level0\" ></th> \n",
       "        <th class=\"col_heading level0 col0\" >Purchase Count</th> \n",
       "        <th class=\"col_heading level0 col1\" >Item Price</th> \n",
       "        <th class=\"col_heading level0 col2\" >Total Purchase Value</th> \n",
       "    </tr>    <tr> \n",
       "        <th class=\"index_name level0\" >Item ID</th> \n",
       "        <th class=\"index_name level1\" >Item Name</th> \n",
       "        <th class=\"blank\" ></th> \n",
       "        <th class=\"blank\" ></th> \n",
       "        <th class=\"blank\" ></th> \n",
       "    </tr></thead> \n",
       "<tbody>    <tr> \n",
       "        <th id=\"T_9dd7af0a_c134_11e8_a6f5_985aebcb8ff7level0_row0\" class=\"row_heading level0 row0\" >178</th> \n",
       "        <th id=\"T_9dd7af0a_c134_11e8_a6f5_985aebcb8ff7level1_row0\" class=\"row_heading level1 row0\" >Oathbreaker, Last Hope of the Breaking Storm</th> \n",
       "        <td id=\"T_9dd7af0a_c134_11e8_a6f5_985aebcb8ff7row0_col0\" class=\"data row0 col0\" >12</td> \n",
       "        <td id=\"T_9dd7af0a_c134_11e8_a6f5_985aebcb8ff7row0_col1\" class=\"data row0 col1\" >$4.23</td> \n",
       "        <td id=\"T_9dd7af0a_c134_11e8_a6f5_985aebcb8ff7row0_col2\" class=\"data row0 col2\" >$50.76</td> \n",
       "    </tr>    <tr> \n",
       "        <th id=\"T_9dd7af0a_c134_11e8_a6f5_985aebcb8ff7level0_row1\" class=\"row_heading level0 row1\" >145</th> \n",
       "        <th id=\"T_9dd7af0a_c134_11e8_a6f5_985aebcb8ff7level1_row1\" class=\"row_heading level1 row1\" >Fiery Glass Crusader</th> \n",
       "        <td id=\"T_9dd7af0a_c134_11e8_a6f5_985aebcb8ff7row1_col0\" class=\"data row1 col0\" >9</td> \n",
       "        <td id=\"T_9dd7af0a_c134_11e8_a6f5_985aebcb8ff7row1_col1\" class=\"data row1 col1\" >$4.58</td> \n",
       "        <td id=\"T_9dd7af0a_c134_11e8_a6f5_985aebcb8ff7row1_col2\" class=\"data row1 col2\" >$41.22</td> \n",
       "    </tr>    <tr> \n",
       "        <th id=\"T_9dd7af0a_c134_11e8_a6f5_985aebcb8ff7level0_row2\" class=\"row_heading level0 row2\" >108</th> \n",
       "        <th id=\"T_9dd7af0a_c134_11e8_a6f5_985aebcb8ff7level1_row2\" class=\"row_heading level1 row2\" >Extraction, Quickblade Of Trembling Hands</th> \n",
       "        <td id=\"T_9dd7af0a_c134_11e8_a6f5_985aebcb8ff7row2_col0\" class=\"data row2 col0\" >9</td> \n",
       "        <td id=\"T_9dd7af0a_c134_11e8_a6f5_985aebcb8ff7row2_col1\" class=\"data row2 col1\" >$3.53</td> \n",
       "        <td id=\"T_9dd7af0a_c134_11e8_a6f5_985aebcb8ff7row2_col2\" class=\"data row2 col2\" >$31.77</td> \n",
       "    </tr>    <tr> \n",
       "        <th id=\"T_9dd7af0a_c134_11e8_a6f5_985aebcb8ff7level0_row3\" class=\"row_heading level0 row3\" >82</th> \n",
       "        <th id=\"T_9dd7af0a_c134_11e8_a6f5_985aebcb8ff7level1_row3\" class=\"row_heading level1 row3\" >Nirvana</th> \n",
       "        <td id=\"T_9dd7af0a_c134_11e8_a6f5_985aebcb8ff7row3_col0\" class=\"data row3 col0\" >9</td> \n",
       "        <td id=\"T_9dd7af0a_c134_11e8_a6f5_985aebcb8ff7row3_col1\" class=\"data row3 col1\" >$4.90</td> \n",
       "        <td id=\"T_9dd7af0a_c134_11e8_a6f5_985aebcb8ff7row3_col2\" class=\"data row3 col2\" >$44.10</td> \n",
       "    </tr>    <tr> \n",
       "        <th id=\"T_9dd7af0a_c134_11e8_a6f5_985aebcb8ff7level0_row4\" class=\"row_heading level0 row4\" >19</th> \n",
       "        <th id=\"T_9dd7af0a_c134_11e8_a6f5_985aebcb8ff7level1_row4\" class=\"row_heading level1 row4\" >Pursuit, Cudgel of Necromancy</th> \n",
       "        <td id=\"T_9dd7af0a_c134_11e8_a6f5_985aebcb8ff7row4_col0\" class=\"data row4 col0\" >8</td> \n",
       "        <td id=\"T_9dd7af0a_c134_11e8_a6f5_985aebcb8ff7row4_col1\" class=\"data row4 col1\" >$1.02</td> \n",
       "        <td id=\"T_9dd7af0a_c134_11e8_a6f5_985aebcb8ff7row4_col2\" class=\"data row4 col2\" >$8.16</td> \n",
       "    </tr></tbody> \n",
       "</table> "
      ],
      "text/plain": [
       "<pandas.io.formats.style.Styler at 0x1133b1198>"
      ]
     },
     "execution_count": 99,
     "metadata": {},
     "output_type": "execute_result"
    }
   ],
   "source": [
    "popular_items.style.format({\"Item Price\": \"${:.2f}\", \"Total Purchase Value\": \"${:.2f}\"})"
   ]
  },
  {
   "cell_type": "code",
   "execution_count": 100,
   "metadata": {},
   "outputs": [],
   "source": [
    "# Most Profitable Items\n",
    "\n",
    "items = purchase_data[[\"Item ID\", \"Item Name\", \"Price\"]]\n",
    "profitable_items = items.groupby(\"Item ID\").sum()\n",
    "profitable_items.sort_values(by = \"Price\", ascending = False, inplace = True)\n",
    "items = items.drop_duplicates([\"Item ID\", \"Price\"])"
   ]
  },
  {
   "cell_type": "code",
   "execution_count": 101,
   "metadata": {},
   "outputs": [],
   "source": [
    "item_ids = [profitable_items.index[0], profitable_items.index[1], profitable_items.index[2], \n",
    "            profitable_items.index[3], profitable_items.index[4]]"
   ]
  },
  {
   "cell_type": "code",
   "execution_count": 102,
   "metadata": {},
   "outputs": [],
   "source": [
    "name_1 = items.loc[items[\"Item ID\"] == item_ids[0], \"Item Name\"].item()\n",
    "name_2 = items.loc[items[\"Item ID\"] == item_ids[1], \"Item Name\"].item()\n",
    "name_3 = items.loc[items[\"Item ID\"] == item_ids[2], \"Item Name\"].item()\n",
    "name_4 = items.loc[items[\"Item ID\"] == item_ids[3], \"Item Name\"].item()\n",
    "name_5 = items.loc[items[\"Item ID\"] == item_ids[4], \"Item Name\"].item()\n",
    "profit_names = [name_1, name_2, name_3, name_4, name_5]"
   ]
  },
  {
   "cell_type": "code",
   "execution_count": 103,
   "metadata": {},
   "outputs": [],
   "source": [
    "values = [profitable_items.iloc[0,0],profitable_items.iloc[1,0],profitable_items.iloc[2,0], \n",
    "          profitable_items.iloc[3,0],profitable_items.iloc[4,0]]"
   ]
  },
  {
   "cell_type": "code",
   "execution_count": 104,
   "metadata": {},
   "outputs": [],
   "source": [
    "price_1 = items.loc[items[\"Item ID\"] == item_ids[0], \"Price\"].item()\n",
    "price_2 = items.loc[items[\"Item ID\"] == item_ids[1], \"Price\"].item()\n",
    "price_3 = items.loc[items[\"Item ID\"] == item_ids[2], \"Price\"].item()\n",
    "price_4 = items.loc[items[\"Item ID\"] == item_ids[3], \"Price\"].item()\n",
    "price_5 = items.loc[items[\"Item ID\"] == item_ids[4], \"Price\"].item()\n",
    "profit_prices = [price_1,price_2,price_3,price_4,price_5]"
   ]
  },
  {
   "cell_type": "code",
   "execution_count": 105,
   "metadata": {},
   "outputs": [],
   "source": [
    "profit = purchase_data[[\"Item ID\", \"Item Name\", \"Price\"]].groupby(\"Item Name\").count()\n",
    "count_1 = profit.loc[profit.index == profit_names[0], \"Item ID\"].item()\n",
    "count_2 = profit.loc[profit.index == profit_names[1], \"Item ID\"].item()\n",
    "count_3 = profit.loc[profit.index == profit_names[2], \"Item ID\"].item()\n",
    "count_4 = profit.loc[profit.index == profit_names[3], \"Item ID\"].item()\n",
    "count_5 = profit.loc[profit.index == profit_names[4], \"Item ID\"].item()\n",
    "counts = [count_1, count_2, count_3, count_4, count_5]"
   ]
  },
  {
   "cell_type": "code",
   "execution_count": 106,
   "metadata": {},
   "outputs": [],
   "source": [
    "profitable_items = pd.DataFrame({\n",
    "    \"Item ID\": item_ids,\n",
    "    \"Item Name\": profit_names,\n",
    "    \"Purchase Count\": counts,\n",
    "    \"Item Price\": profit_prices,\n",
    "    \"Total Purchase Value\": values})"
   ]
  },
  {
   "cell_type": "code",
   "execution_count": 107,
   "metadata": {},
   "outputs": [],
   "source": [
    "profitable_items = profitable_items.set_index([\"Item ID\", \"Item Name\"])\n",
    "profitable_items = profitable_items[[\"Purchase Count\", \"Item Price\", \"Total Purchase Value\"]]"
   ]
  },
  {
   "cell_type": "code",
   "execution_count": 109,
   "metadata": {},
   "outputs": [
    {
     "data": {
      "text/html": [
       "<style  type=\"text/css\" >\n",
       "</style>  \n",
       "<table id=\"T_d2575324_c135_11e8_8bcb_985aebcb8ff7\" > \n",
       "<thead>    <tr> \n",
       "        <th class=\"blank\" ></th> \n",
       "        <th class=\"blank level0\" ></th> \n",
       "        <th class=\"col_heading level0 col0\" >Purchase Count</th> \n",
       "        <th class=\"col_heading level0 col1\" >Item Price</th> \n",
       "        <th class=\"col_heading level0 col2\" >Total Purchase Value</th> \n",
       "    </tr>    <tr> \n",
       "        <th class=\"index_name level0\" >Item ID</th> \n",
       "        <th class=\"index_name level1\" >Item Name</th> \n",
       "        <th class=\"blank\" ></th> \n",
       "        <th class=\"blank\" ></th> \n",
       "        <th class=\"blank\" ></th> \n",
       "    </tr></thead> \n",
       "<tbody>    <tr> \n",
       "        <th id=\"T_d2575324_c135_11e8_8bcb_985aebcb8ff7level0_row0\" class=\"row_heading level0 row0\" >178</th> \n",
       "        <th id=\"T_d2575324_c135_11e8_8bcb_985aebcb8ff7level1_row0\" class=\"row_heading level1 row0\" >Oathbreaker, Last Hope of the Breaking Storm</th> \n",
       "        <td id=\"T_d2575324_c135_11e8_8bcb_985aebcb8ff7row0_col0\" class=\"data row0 col0\" >12</td> \n",
       "        <td id=\"T_d2575324_c135_11e8_8bcb_985aebcb8ff7row0_col1\" class=\"data row0 col1\" >$4.23</td> \n",
       "        <td id=\"T_d2575324_c135_11e8_8bcb_985aebcb8ff7row0_col2\" class=\"data row0 col2\" >$50.76</td> \n",
       "    </tr>    <tr> \n",
       "        <th id=\"T_d2575324_c135_11e8_8bcb_985aebcb8ff7level0_row1\" class=\"row_heading level0 row1\" >82</th> \n",
       "        <th id=\"T_d2575324_c135_11e8_8bcb_985aebcb8ff7level1_row1\" class=\"row_heading level1 row1\" >Nirvana</th> \n",
       "        <td id=\"T_d2575324_c135_11e8_8bcb_985aebcb8ff7row1_col0\" class=\"data row1 col0\" >9</td> \n",
       "        <td id=\"T_d2575324_c135_11e8_8bcb_985aebcb8ff7row1_col1\" class=\"data row1 col1\" >$4.90</td> \n",
       "        <td id=\"T_d2575324_c135_11e8_8bcb_985aebcb8ff7row1_col2\" class=\"data row1 col2\" >$44.10</td> \n",
       "    </tr>    <tr> \n",
       "        <th id=\"T_d2575324_c135_11e8_8bcb_985aebcb8ff7level0_row2\" class=\"row_heading level0 row2\" >145</th> \n",
       "        <th id=\"T_d2575324_c135_11e8_8bcb_985aebcb8ff7level1_row2\" class=\"row_heading level1 row2\" >Fiery Glass Crusader</th> \n",
       "        <td id=\"T_d2575324_c135_11e8_8bcb_985aebcb8ff7row2_col0\" class=\"data row2 col0\" >9</td> \n",
       "        <td id=\"T_d2575324_c135_11e8_8bcb_985aebcb8ff7row2_col1\" class=\"data row2 col1\" >$4.58</td> \n",
       "        <td id=\"T_d2575324_c135_11e8_8bcb_985aebcb8ff7row2_col2\" class=\"data row2 col2\" >$41.22</td> \n",
       "    </tr>    <tr> \n",
       "        <th id=\"T_d2575324_c135_11e8_8bcb_985aebcb8ff7level0_row3\" class=\"row_heading level0 row3\" >92</th> \n",
       "        <th id=\"T_d2575324_c135_11e8_8bcb_985aebcb8ff7level1_row3\" class=\"row_heading level1 row3\" >Final Critic</th> \n",
       "        <td id=\"T_d2575324_c135_11e8_8bcb_985aebcb8ff7row3_col0\" class=\"data row3 col0\" >13</td> \n",
       "        <td id=\"T_d2575324_c135_11e8_8bcb_985aebcb8ff7row3_col1\" class=\"data row3 col1\" >$4.88</td> \n",
       "        <td id=\"T_d2575324_c135_11e8_8bcb_985aebcb8ff7row3_col2\" class=\"data row3 col2\" >$39.04</td> \n",
       "    </tr>    <tr> \n",
       "        <th id=\"T_d2575324_c135_11e8_8bcb_985aebcb8ff7level0_row4\" class=\"row_heading level0 row4\" >103</th> \n",
       "        <th id=\"T_d2575324_c135_11e8_8bcb_985aebcb8ff7level1_row4\" class=\"row_heading level1 row4\" >Singed Scalpel</th> \n",
       "        <td id=\"T_d2575324_c135_11e8_8bcb_985aebcb8ff7row4_col0\" class=\"data row4 col0\" >8</td> \n",
       "        <td id=\"T_d2575324_c135_11e8_8bcb_985aebcb8ff7row4_col1\" class=\"data row4 col1\" >$4.35</td> \n",
       "        <td id=\"T_d2575324_c135_11e8_8bcb_985aebcb8ff7row4_col2\" class=\"data row4 col2\" >$34.80</td> \n",
       "    </tr></tbody> \n",
       "</table> "
      ],
      "text/plain": [
       "<pandas.io.formats.style.Styler at 0x1133ccc50>"
      ]
     },
     "execution_count": 109,
     "metadata": {},
     "output_type": "execute_result"
    }
   ],
   "source": [
    "profitable_items.style.format({\"Item Price\": \"${:.2f}\", \"Total Purchase Value\": \"${:.2f}\"})"
   ]
  },
  {
   "cell_type": "code",
   "execution_count": null,
   "metadata": {},
   "outputs": [],
   "source": []
  }
 ],
 "metadata": {
  "kernelspec": {
   "display_name": "Python 3",
   "language": "python",
   "name": "python3"
  },
  "language_info": {
   "codemirror_mode": {
    "name": "ipython",
    "version": 3
   },
   "file_extension": ".py",
   "mimetype": "text/x-python",
   "name": "python",
   "nbconvert_exporter": "python",
   "pygments_lexer": "ipython3",
   "version": "3.6.4"
  }
 },
 "nbformat": 4,
 "nbformat_minor": 2
}
